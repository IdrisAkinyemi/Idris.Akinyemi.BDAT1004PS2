{
 "cells": [
  {
   "cell_type": "code",
   "execution_count": 29,
   "metadata": {},
   "outputs": [
    {
     "data": {
      "text/plain": [
       "6"
      ]
     },
     "execution_count": 29,
     "metadata": {},
     "output_type": "execute_result"
    }
   ],
   "source": [
    "#Question 1\n",
    "import Que1\n",
    ">>> b ()\n",
    ">>> b ()\n",
    ">>> b ()\n",
    ">>> a"
   ]
  },
  {
   "cell_type": "markdown",
   "metadata": {},
   "source": [
    "import Que1 - imports the module Que1\n",
    ">>> b () - executes the function b, which add 2 to the initial value of a = 0 + 2 = 2\n",
    ">>> b () - executes the function b again = 2 + 2 = 4\n",
    ">>> b () - executes the function b again = 4 + 2 = 6\n",
    ">>> a - shows the accumulated value of a"
   ]
  },
  {
   "cell_type": "code",
   "execution_count": 66,
   "metadata": {},
   "outputs": [],
   "source": [
    "#Question 2\n",
    "def file_length(file_name):\n",
    "    try:\n",
    "        file = open(file_name)\n",
    "        contents = file.read()\n",
    "        file.close()\n",
    "        print(len(contents))\n",
    "    except:\n",
    "        print(\"The file\" + \" \" + file_name + \" \" + \"cannot be found\")\n",
    "    "
   ]
  },
  {
   "cell_type": "code",
   "execution_count": 67,
   "metadata": {},
   "outputs": [
    {
     "name": "stdout",
     "output_type": "stream",
     "text": [
      "1642\n"
     ]
    }
   ],
   "source": [
    "import Filelength\n",
    ">>> file_length ('Filelength.py')"
   ]
  },
  {
   "cell_type": "code",
   "execution_count": 68,
   "metadata": {},
   "outputs": [
    {
     "name": "stdout",
     "output_type": "stream",
     "text": [
      "The file midterm.py cannot be found\n"
     ]
    }
   ],
   "source": [
    "import Filelength\n",
    ">>> file_length ('midterm.py')"
   ]
  },
  {
   "cell_type": "code",
   "execution_count": 74,
   "metadata": {},
   "outputs": [
    {
     "name": "stdout",
     "output_type": "stream",
     "text": [
      "\"I am a Kangaroo located at coordinates\" Point(0, 0)\n",
      "\"I am a Kangaroo located at coordinates\" Point(3, 0)\n"
     ]
    },
    {
     "data": {
      "text/plain": [
       "\"['doll', 'firetruck', 'kitten']\""
      ]
     },
     "execution_count": 74,
     "metadata": {},
     "output_type": "execute_result"
    }
   ],
   "source": [
    "#Question 3\n",
    "class Marsupial:\n",
    "    'class Marsupial creation'\n",
    "\n",
    "    def __init__(self):\n",
    "        'instantiates an empty list'\n",
    "        self.q = []\n",
    "\n",
    "    def isEmpty(self):\n",
    "        'returns True if queue is empty, False otherwise'\n",
    "        return (len(self.q) == 0)\n",
    "\n",
    "    def put_in_pouch (self, item):\n",
    "        'insert item at rear of queue'\n",
    "        return self.q.append(item)\n",
    "\n",
    "    def pouch_contents(self):\n",
    "        'returns all items in the queue'\n",
    "        return list (self.q)\n",
    "\n",
    "    \n",
    "class Kangaroo (Marsupial):\n",
    "    \n",
    "        def __init__(self, xcoord=0, ycoord=0):\n",
    "            'initialize coordinates to (xcoord, ycoord)'\n",
    "            self.x = xcoord\n",
    "            self.y = ycoord\n",
    "\n",
    "        def setx(self, xcoord):\n",
    "            'set x coordinate of point to xcoord'\n",
    "            self.x = xcoord\n",
    "\n",
    "        def sety(self, ycoord):\n",
    "            'set y coordinate of point to ycoord'\n",
    "            self.y = ycoord\n",
    "\n",
    "        def get(self):\n",
    "            'return coordinates of the point as a tuple'\n",
    "            return (self.x, self.y)\n",
    "\n",
    "        def jump(self, dx, dy):\n",
    "            'change the x and y coordinates by dx and dy'\n",
    "            self.x += dx\n",
    "            self.y += dy\n",
    "        \n",
    "        def __add__(self, point):\n",
    "            return Point(self.x+point.x, self.y+point.y)\n",
    "    \n",
    "        def __eq__(self, other):\n",
    "            'self == other if they have the same coordinates'\n",
    "            return self.x == other.x and self.y == other.y\n",
    "\n",
    "        def __repr__(self):\n",
    "            'canonical string representation Point(x, y)'\n",
    "            return '\"I am a Kangaroo located at coordinates\" Point({}, {})'.format(self.x, self.y)\n",
    "\n",
    "k = Kangaroo()\n",
    "print((k).__str__())\n",
    "\n",
    "\n",
    "k.jump(1,0) \n",
    "k.jump(1,0) \n",
    "k.jump(1,0) \n",
    "print((k).__str__())\n",
    "\n",
    "m = Marsupial() \n",
    "m.put_in_pouch('doll') \n",
    "m.put_in_pouch('firetruck') \n",
    "m.put_in_pouch('kitten') \n",
    "m.pouch_contents().__str__()"
   ]
  },
  {
   "cell_type": "code",
   "execution_count": 81,
   "metadata": {},
   "outputs": [
    {
     "name": "stdout",
     "output_type": "stream",
     "text": [
      "Enter a number1\n",
      "1\n"
     ]
    }
   ],
   "source": [
    "# Question 4\n",
    "n = int(input (\"Enter a number\"))\n",
    "print (n)\n",
    "while n > 1:\n",
    "        n = collatz (n)\n",
    "        print (n)\n",
    "        \n",
    "def collatz(n):\n",
    "    'check if num is odd or even'\n",
    "    if (n % 2) == 0:\n",
    "        return n // 2\n",
    "    else:\n",
    "         return 3 * n + 1\n",
    "        \n"
   ]
  },
  {
   "cell_type": "code",
   "execution_count": 76,
   "metadata": {},
   "outputs": [
    {
     "name": "stdout",
     "output_type": "stream",
     "text": [
      "Enter a number10\n",
      "10\n",
      "5\n",
      "16\n",
      "8\n",
      "4\n",
      "2\n",
      "1\n"
     ]
    }
   ],
   "source": [
    "n = int(input (\"Enter a number\"))\n",
    "print (n)\n",
    "while n > 1:\n",
    "        n = collatz (n)\n",
    "        print (n)\n",
    "        \n",
    "def collatz(n):\n",
    "    'check if num is odd or even'\n",
    "    if (n % 2) == 0:\n",
    "        return n // 2\n",
    "    else:\n",
    "         return 3 * n + 1"
   ]
  },
  {
   "cell_type": "code",
   "execution_count": 97,
   "metadata": {},
   "outputs": [
    {
     "data": {
      "text/plain": [
       "[0]"
      ]
     },
     "execution_count": 97,
     "metadata": {},
     "output_type": "execute_result"
    }
   ],
   "source": [
    "#Question 5\n",
    "\n",
    "def binary(n):\n",
    "    if n < 0:\n",
    "        print (\"This is a negative number\")\n",
    "    elif n < 2:\n",
    "        return [n]\n",
    "    else:\n",
    "        return bin(n)[2:]\n",
    "    \n",
    "binary(0)\n"
   ]
  },
  {
   "cell_type": "code",
   "execution_count": 98,
   "metadata": {},
   "outputs": [
    {
     "data": {
      "text/plain": [
       "[1]"
      ]
     },
     "execution_count": 98,
     "metadata": {},
     "output_type": "execute_result"
    }
   ],
   "source": [
    "\n",
    "def binary(n):\n",
    "    if n < 0:\n",
    "        print (\"This is a negative number\")\n",
    "    elif n < 2:\n",
    "        return [n]\n",
    "    else:\n",
    "        return bin(n)[2:]\n",
    "    \n",
    "binary(1)"
   ]
  },
  {
   "cell_type": "code",
   "execution_count": 99,
   "metadata": {},
   "outputs": [
    {
     "data": {
      "text/plain": [
       "'11'"
      ]
     },
     "execution_count": 99,
     "metadata": {},
     "output_type": "execute_result"
    }
   ],
   "source": [
    "def binary(n):\n",
    "    if n < 0:\n",
    "        print (\"This is a negative number\")\n",
    "    elif n < 2:\n",
    "        return [n]\n",
    "    else:\n",
    "        return bin(n)[2:]\n",
    "    \n",
    "binary(3)"
   ]
  },
  {
   "cell_type": "code",
   "execution_count": 100,
   "metadata": {},
   "outputs": [
    {
     "data": {
      "text/plain": [
       "'1001'"
      ]
     },
     "execution_count": 100,
     "metadata": {},
     "output_type": "execute_result"
    }
   ],
   "source": [
    "def binary(n):\n",
    "    if n < 0:\n",
    "        print (\"This is a negative number\")\n",
    "    elif n < 2:\n",
    "        return [n]\n",
    "    else:\n",
    "        return bin(n)[2:]\n",
    "    \n",
    "binary(9)"
   ]
  },
  {
   "cell_type": "code",
   "execution_count": 3,
   "metadata": {},
   "outputs": [
    {
     "data": {
      "text/plain": [
       "['http://www.w3.org/',\n",
       " 'http://www.w3.org/standards/',\n",
       " 'http://www.w3.org/participate/',\n",
       " 'http://www.w3.org/Consortium/membership',\n",
       " 'http://www.w3.org/Consortium/',\n",
       " 'http://www.w3.org/Consortium/',\n",
       " 'http://www.w3.org/Consortium/facts.html',\n",
       " 'http://www.w3.org/Consortium/presskit.html',\n",
       " 'http://www.w3.org/Consortium/sponsor/',\n",
       " 'http://www.w3.org/Consortium/Recruitment/',\n",
       " 'http://www.w3.org/Consortium/contact.html',\n",
       " 'http://www.w3.org/Help/',\n",
       " 'http://www.w3.org/Consortium/mission.html#w3c_content_body',\n",
       " 'http://www.w3.org/',\n",
       " 'http://www.w3.org/Consortium/',\n",
       " 'http://www.w3.org/Consortium/mission.html#openstand',\n",
       " 'http://www.w3.org/Consortium/mission.html#principles',\n",
       " 'http://www.w3.org/Consortium/mission.html#vision',\n",
       " 'http://open-stand.org/principles/',\n",
       " 'http://open-stand.org/',\n",
       " 'http://www.w3.org/WAI/',\n",
       " 'http://www.w3.org/International/',\n",
       " 'http://www.w3.org/standards/webofdevices/',\n",
       " 'http://www.w3.org/Mobile/',\n",
       " 'http://www.w3.org/standards/agents/Overview.html',\n",
       " 'http://www.w3.org/standards/webdesign/',\n",
       " 'http://www.w3.org/standards/webarch/',\n",
       " 'http://www.w3.org/standards/xml/',\n",
       " 'http://www.w3.org/standards/semanticweb/',\n",
       " 'http://www.w3.org/standards/webofservices/',\n",
       " 'http://www.w3.org/standards/semanticweb/',\n",
       " 'http://www.w3.org/standards/xml/security',\n",
       " 'http://www.w3.org/standards/webofservices/security',\n",
       " 'http://www.w3.org/standards/webdesign/privacy',\n",
       " 'http://www.w3.org/',\n",
       " 'http://www.w3.org/standards/',\n",
       " 'http://www.w3.org/participate/',\n",
       " 'http://www.w3.org/Consortium/membership',\n",
       " 'http://www.w3.org/Consortium/',\n",
       " 'http://www.w3.org/Consortium/contact',\n",
       " 'http://www.w3.org/Help/',\n",
       " 'http://www.w3.org/Consortium/sup',\n",
       " 'http://www.w3.org/Consortium/siteindex',\n",
       " 'http://lists.w3.org/Archives/Public/site-comments/',\n",
       " 'http://twitter.com/W3C',\n",
       " 'http://www.csail.mit.edu/',\n",
       " 'http://www.ercim.org/',\n",
       " 'http://www.keio.ac.jp/',\n",
       " 'http://ev.buaa.edu.cn/',\n",
       " 'http://www.w3.org/Consortium/Legal/ipr-notice']"
      ]
     },
     "execution_count": 3,
     "metadata": {},
     "output_type": "execute_result"
    }
   ],
   "source": [
    "from urllib.request import urlopen\n",
    "from html.parser import HTMLParser\n",
    "class Collector(HTMLParser):\n",
    "    'collects hyperlink URLs into a list'\n",
    "\n",
    "    def __init__(self, url):\n",
    "        'initializes parser, the url, and a list'\n",
    "        HTMLParser.__init__(self)\n",
    "        self.url = url\n",
    "        self.links = []\n",
    "\n",
    "    \n",
    "    def handle_starttag(self, tag, attrs):\n",
    "        'collects hyperlink URLs in their absolute format'\n",
    "        if tag == 'a':\n",
    "            for attr in attrs:\n",
    "                if attr[0] == 'href':\n",
    "                    # construct absolute URL\n",
    "                    absolute = urljoin(self.url, attr[1])\n",
    "                    if absolute[:4] == 'http': # collect HTTP URLs\n",
    "                        self.links.append(absolute)\n",
    "                            \n",
    "    def getLinks(self):\n",
    "        'returns hyperlinks URLs in their absolute format'\n",
    "        return self.links\n",
    "    \n",
    "url = 'http://www.w3.org/Consortium/mission.html'\n",
    "resource = urlopen(url)\n",
    "content = resource.read().decode()\n",
    "collector = Collector(url)\n",
    "collector.feed(content)\n",
    "collector.getLinks()"
   ]
  },
  {
   "cell_type": "code",
   "execution_count": 4,
   "metadata": {},
   "outputs": [
    {
     "data": {
      "text/plain": [
       "['THE', 'QUICK', 'BROWN', 'FOX', 'JUMPS', 'OVER', 'THE', 'LAZY', 'DOG']"
      ]
     },
     "execution_count": 4,
     "metadata": {},
     "output_type": "execute_result"
    }
   ],
   "source": [
    "# Question 9a\n",
    "[words.upper() for words in ['The', 'quick', 'brown', 'fox', 'jumps', 'over', 'the', 'lazy', 'dog']]\n"
   ]
  },
  {
   "cell_type": "code",
   "execution_count": 5,
   "metadata": {},
   "outputs": [
    {
     "data": {
      "text/plain": [
       "['the', 'quick', 'brown', 'fox', 'jumps', 'over', 'the', 'lazy', 'dog']"
      ]
     },
     "execution_count": 5,
     "metadata": {},
     "output_type": "execute_result"
    }
   ],
   "source": [
    "# Question 9b\n",
    "[words.lower() for words in ['The', 'quick', 'brown', 'fox', 'jumps', 'over', 'the', 'lazy', 'dog']]"
   ]
  },
  {
   "cell_type": "code",
   "execution_count": null,
   "metadata": {},
   "outputs": [],
   "source": []
  }
 ],
 "metadata": {
  "kernelspec": {
   "display_name": "Python 3",
   "language": "python",
   "name": "python3"
  },
  "language_info": {
   "codemirror_mode": {
    "name": "ipython",
    "version": 3
   },
   "file_extension": ".py",
   "mimetype": "text/x-python",
   "name": "python",
   "nbconvert_exporter": "python",
   "pygments_lexer": "ipython3",
   "version": "3.8.3"
  }
 },
 "nbformat": 4,
 "nbformat_minor": 4
}
